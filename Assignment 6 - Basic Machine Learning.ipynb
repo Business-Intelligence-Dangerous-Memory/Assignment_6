{
 "cells": [
  {
   "cell_type": "markdown",
   "metadata": {},
   "source": [
    "# Assignment 6: Basic Machine Learning\n",
    "\n",
    "Gruppe Dangerous Memory: Jake, Christian, Alexander\n",
    "\n",
    "https://github.com/datsoftlyngby/soft2019fall-bi-teaching-material/tree/master/week40/assignment_6"
   ]
  },
  {
   "cell_type": "markdown",
   "metadata": {},
   "source": [
    "## Part 1: Predicting Hackernews Points With Linear Regression in One Variable"
   ]
  },
  {
   "cell_type": "markdown",
   "metadata": {},
   "source": [
    "\n",
    "### Part 1.1: Data preprocessing\n",
    "Hand-in a plot that shows time on the x-axis and number of points on the y-axis."
   ]
  },
  {
   "cell_type": "code",
   "execution_count": 1,
   "metadata": {},
   "outputs": [],
   "source": [
    "import pandas as pd\n",
    "users_df = pd.read_json (\"users.json\") # ['about', 'created', 'error', 'id', 'karma', 'submitted']\n",
    "\n",
    "users_df_plot = users_df.copy()\n",
    "\n",
    "users_df_plot['created'] = pd.to_datetime(users_df_plot['created'], unit='s') # converting from epoch(seconds since) to datetime\n",
    "\n",
    "ax1 = users_df_plot.plot(x='created', y='karma', style=\".\", figsize=(10,10))"
   ]
  },
  {
   "cell_type": "markdown",
   "metadata": {},
   "source": [
    "### Part 1.2: Model selection\n",
    "**Describe with at least five lines of text: which model you chose, and why.**"
   ]
  },
  {
   "cell_type": "markdown",
   "metadata": {},
   "source": [
    "The size of the users dataset is 56586 entries. \n",
    "\n",
    "From the task description, \"Predicting Hackernews Points With Linear Regression in One Variable\", we have a strong indicator of which ML model to choose: Regression.\n",
    "\n",
    "Taking a look at the scikit-learn [\"Choosing the right estimator\"](https://scikit-learn.org/stable/tutorial/machine_learning_map/index.html) chart/cheat-sheet:\n",
    "\n",
    "The samle is >50, we are not to predict a category, but are to predict quantity, a relevant ML model to use could be [SGD Regressor](https://scikit-learn.org/stable/modules/sgd.html). Furthermore, reading from the SGD Regressor documentation for [Regression](https://scikit-learn.org/stable/modules/sgd.html#regression): *\"SGDRegressor is well suited for **regression** problems with a large number of training samples (> 10.000)\"*."
   ]
  },
  {
   "cell_type": "markdown",
   "metadata": {},
   "source": [
    "### Part 1.3: Model training\n",
    "Hand-in the code (markdown will do) that trains the data."
   ]
  },
  {
   "cell_type": "code",
   "execution_count": 6,
   "metadata": {},
   "outputs": [
    {
     "name": "stdout",
     "output_type": "stream",
     "text": [
      "Coefficients: \n",
      " [-3.38410902e-05]\n",
      "Mean squared error: 78589344.55\n",
      "Variance score: 0.14\n"
     ]
    },
    {
     "data": {
      "image/png": "[encoded data removed]",
      "text/plain": [
       "<Figure size 432x288 with 1 Axes>"
      ]
     },
     "metadata": {},
     "output_type": "display_data"
    }
   ],
   "source": [
    "# Modified example code used from https://scikit-learn.org/stable/auto_examples/linear_model/plot_ols.html#sphx-glr-auto-examples-linear-model-plot-ols-py\n",
    "\n",
    "import matplotlib.pyplot as plt\n",
    "import numpy as np\n",
    "from sklearn import linear_model, datasets\n",
    "from sklearn.metrics import mean_squared_error, r2_score\n",
    "from sklearn.utils import Bunch\n",
    "\n",
    "\n",
    "# Remove rows containing na values in created and karma columns\n",
    "users_df = users_df.dropna(subset=['created', 'karma'])\n",
    "\n",
    "# Load the dataset\n",
    "# Container object for datasets: Dictionary-like object that exposes its keys as attributes.\n",
    "users_bunch = Bunch(created =np.array(users_df['created']), karma=np.array(users_df['karma']))\n",
    "\n",
    "# Use only one feature\n",
    "users_bunch_X = users_bunch.created[:, np.newaxis] #users_bunch_X = users_bunch.created[:, np.newaxis, 2]\n",
    "\n",
    "# Split the data into training/testing sets\n",
    "users_bunch_X_train = users_bunch_X[:-len(users_bunch_X)//2]\n",
    "users_bunch_X_test = users_bunch_X[-len(users_bunch_X)//2:]\n",
    "\n",
    "# Split the targets into training/testing sets\n",
    "users_bunch_Y_train = users_bunch.karma[:-len(users_bunch.karma)//2] \n",
    "users_bunch_Y_test = users_bunch.karma[-len(users_bunch.karma)//2:]\n",
    "\n",
    "# Create linear regression object\n",
    "regr = linear_model.LinearRegression()\n",
    "\n",
    "# Train the model using the training sets\n",
    "regr.fit(users_bunch_X_train, users_bunch_Y_train)\n",
    "\n",
    "# Make predictions using the testing set\n",
    "users_bunch_Y_pred = regr.predict(users_bunch_X_test)\n",
    "\n",
    "# The coefficients\n",
    "print('Coefficients: \\n', regr.coef_)\n",
    "# The mean squared error\n",
    "print(\"Mean squared error: %.2f\"\n",
    "      % mean_squared_error(users_bunch_Y_test, users_bunch_Y_pred))\n",
    "# Explained variance score: 1 is perfect prediction\n",
    "print('Variance score: %.2f' % r2_score(users_bunch_Y_test, users_bunch_Y_pred))\n",
    "\n",
    "# Plot outputs\n",
    "#plt.figure(figsize=(10,10))\n",
    "plt.scatter(users_bunch_X_test, users_bunch_Y_test, marker=\".\")\n",
    "plt.plot(users_bunch_X_test, users_bunch_Y_pred, color='red', linewidth=2)\n",
    "plt.axhline(y=1000, color='yellow', linestyle='-')\n",
    "\n",
    "#plt.xticks(())\n",
    "#plt.yticks(())\n",
    "\n",
    "# align plots to axis\n",
    "plt.autoscale(enable=True, axis='x', tight=True)\n",
    "plt.autoscale(enable=True, axis='y', tight=True)\n",
    "plt.legend([\"prediction\", \"1000\"])\n",
    "plt.show()"
   ]
  },
  {
   "cell_type": "markdown",
   "metadata": {},
   "source": [
    "\n",
    "### Part 1.4: Model Validation \n",
    "\n",
    "1. A one-page description of the model parameters -- number of which are model dependent: Why are they there? What is their purpose in the model? What do they explain for your data? How are they helping you to predict how much time you need to be active in order to gain Hackernews points?\n",
    "\n",
    "2. A visual plot of the model that explains the description above. In the case of a linear regression this is a line that shows how the model expects how long a user needs to be active (x value) in order to get a certain number of points (y value).\n",
    "\n",
    "3. Explain: What does it take to get 1000 points? How long would you have to be active on Hackernews?\n",
    "\n",
    "4. Explain: how you have sanity checked your resulting trained/validated model: What does it take to get 1000 points? 500 points? 10000 points? 100 points? How long would you have to be active on Hackernews in those cases?"
   ]
  },
  {
   "cell_type": "markdown",
   "metadata": {},
   "source": [
    "## Part 2: Predicting Hackernews Points With Multivariate Linear Regression"
   ]
  },
  {
   "cell_type": "markdown",
   "metadata": {},
   "source": [
    "- A description of the parameters\n",
    "- An analysis of how much time you need to be active on Hackernews, plus how many posts you need to reach 1000 points.\n",
    "- Explain: how much does the number of posts contribute to get the points? How much do the time since registration explain?"
   ]
  },
  {
   "cell_type": "markdown",
   "metadata": {},
   "source": [
    "## Part 3: Prediction of breast cancer malignity\n",
    "\n",
    "### Part 3.1: Looking at the data - Report the head of the table. Write two lines about notable features of the data. How big is your dataset? What are the different variables? Etc...?\n",
    "\n",
    "### Part 3.2: Building the model - Hand-in a description of your chosen variables and why you think they could help predict breast cancer.\n",
    "\n",
    "### Part 3.3 Evaluating the model \n",
    "\n",
    "- the accuracy of the score\n",
    "- five lines describing what that number of accuracy actually means.\n",
    "is the data set 'balanced'?\n",
    "- should a ROC curve-based or perhaps a precision-recall optimization be used here?\n",
    "- what can the number tell you when you inform patiens whether their cancer is benign or malign?\n",
    "- do you dare do synthetic minority oversampling synthesis (SMOTE) -- if needed (check labelling 'balance') -- on this data to obtain higher accuracy? (this is a serious question if you are working in health care for real!)"
   ]
  }
 ],
 "metadata": {
  "kernelspec": {
   "display_name": "Python 3",
   "language": "python",
   "name": "python3"
  },
  "language_info": {
   "codemirror_mode": {
    "name": "ipython",
    "version": 3
   },
   "file_extension": ".py",
   "mimetype": "text/x-python",
   "name": "python",
   "nbconvert_exporter": "python",
   "pygments_lexer": "ipython3",
   "version": "3.6.5"
  }
 },
 "nbformat": 4,
 "nbformat_minor": 2
}
